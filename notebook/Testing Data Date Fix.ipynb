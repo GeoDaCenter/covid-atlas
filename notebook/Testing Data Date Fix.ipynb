{
 "cells": [
  {
   "cell_type": "code",
   "execution_count": 63,
   "metadata": {},
   "outputs": [],
   "source": [
    "import pandas as pd\n",
    "from glob import glob\n",
    "from datetime import datetime"
   ]
  },
  {
   "cell_type": "code",
   "execution_count": 64,
   "metadata": {},
   "outputs": [],
   "source": [
    "def validate(strDate):\n",
    "    if strDate.count('/') == 2 or strDate.count('-') == 2:\n",
    "        return True;\n",
    "    else:\n",
    "        return False;"
   ]
  },
  {
   "cell_type": "code",
   "execution_count": 67,
   "metadata": {},
   "outputs": [],
   "source": [
    "def parseCSV(currFile):\n",
    "    raw = pd.read_csv(currFile)\n",
    "\n",
    "    infoCols = [];\n",
    "    dateCols = [];\n",
    "\n",
    "    for column in raw.columns:\n",
    "        if validate(column) == True:\n",
    "            dateCols.append(column)\n",
    "        else:\n",
    "            infoCols.append(column)\n",
    "\n",
    "    dateCols = dateCols.sort(key=lambda date: datetime.strptime(date, \"%-m-%-d-%y\"))\n",
    "\n",
    "    newDf = pd.DataFrame(raw[infoCols])\n",
    "\n",
    "    for column in dateCols:\n",
    "        newDf[column] = raw[column]\n",
    "\n",
    "    newDf.to_csv(f\"./csv/{currFile.split('\\\\')[-1]}\", index=False)"
   ]
  },
  {
   "cell_type": "code",
   "execution_count": 81,
   "metadata": {},
   "outputs": [],
   "source": [
    "dateCols.sort(key=lambda date: datetime.strptime(date, \"%m/%d/%y\"))"
   ]
  },
  {
   "cell_type": "code",
   "execution_count": 79,
   "metadata": {},
   "outputs": [
    {
     "name": "stdout",
     "output_type": "stream",
     "text": [
      "None\n"
     ]
    }
   ],
   "source": [
    "print(dateCols.sort(key=lambda date: datetime.strptime(date, \"%m/%d/%y\")))"
   ]
  },
  {
   "cell_type": "code",
   "execution_count": 84,
   "metadata": {},
   "outputs": [
    {
     "data": {
      "text/plain": [
       "'covid_ccpt_usafacts_state.csv'"
      ]
     },
     "execution_count": 84,
     "metadata": {},
     "output_type": "execute_result"
    }
   ],
   "source": [
    "fileList[0].split('\\\\')[-1]"
   ]
  },
  {
   "cell_type": "code",
   "execution_count": 85,
   "metadata": {},
   "outputs": [],
   "source": [
    "exportPath = './csv/' + fileList[0].split('\\\\')[-1]"
   ]
  },
  {
   "cell_type": "code",
   "execution_count": 86,
   "metadata": {},
   "outputs": [
    {
     "data": {
      "text/plain": [
       "'./csv/covid_ccpt_usafacts_state.csv'"
      ]
     },
     "execution_count": 86,
     "metadata": {},
     "output_type": "execute_result"
    }
   ],
   "source": [
    "exportPath"
   ]
  },
  {
   "cell_type": "code",
   "execution_count": null,
   "metadata": {},
   "outputs": [],
   "source": [
    "for file in fileList:\n",
    "    parseCSV(file)"
   ]
  },
  {
   "cell_type": "code",
   "execution_count": 65,
   "metadata": {},
   "outputs": [],
   "source": [
    "fileList = glob('../public/csv/*_usafacts_state.csv')"
   ]
  }
 ],
 "metadata": {
  "kernelspec": {
   "display_name": "Python 3",
   "language": "python",
   "name": "python3"
  },
  "language_info": {
   "codemirror_mode": {
    "name": "ipython",
    "version": 3
   },
   "file_extension": ".py",
   "mimetype": "text/x-python",
   "name": "python",
   "nbconvert_exporter": "python",
   "pygments_lexer": "ipython3",
   "version": "3.8.3"
  }
 },
 "nbformat": 4,
 "nbformat_minor": 4
}
